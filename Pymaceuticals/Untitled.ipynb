{
 "cells": [
  {
   "cell_type": "code",
   "execution_count": 81,
   "id": "c6379526",
   "metadata": {},
   "outputs": [
    {
     "data": {
      "text/html": [
       "<div>\n",
       "<style scoped>\n",
       "    .dataframe tbody tr th:only-of-type {\n",
       "        vertical-align: middle;\n",
       "    }\n",
       "\n",
       "    .dataframe tbody tr th {\n",
       "        vertical-align: top;\n",
       "    }\n",
       "\n",
       "    .dataframe thead th {\n",
       "        text-align: right;\n",
       "    }\n",
       "</style>\n",
       "<table border=\"1\" class=\"dataframe\">\n",
       "  <thead>\n",
       "    <tr style=\"text-align: right;\">\n",
       "      <th></th>\n",
       "      <th>Mouse ID</th>\n",
       "      <th>Drug Regimen</th>\n",
       "      <th>Sex</th>\n",
       "      <th>Age_months</th>\n",
       "      <th>Weight (g)</th>\n",
       "      <th>Timepoint</th>\n",
       "      <th>Tumor Volume (mm3)</th>\n",
       "      <th>Metastatic Sites</th>\n",
       "    </tr>\n",
       "  </thead>\n",
       "  <tbody>\n",
       "    <tr>\n",
       "      <th>0</th>\n",
       "      <td>k403</td>\n",
       "      <td>Ramicane</td>\n",
       "      <td>Male</td>\n",
       "      <td>21</td>\n",
       "      <td>16</td>\n",
       "      <td>0</td>\n",
       "      <td>45.00</td>\n",
       "      <td>0</td>\n",
       "    </tr>\n",
       "    <tr>\n",
       "      <th>1</th>\n",
       "      <td>k403</td>\n",
       "      <td>Ramicane</td>\n",
       "      <td>Male</td>\n",
       "      <td>21</td>\n",
       "      <td>16</td>\n",
       "      <td>5</td>\n",
       "      <td>38.83</td>\n",
       "      <td>0</td>\n",
       "    </tr>\n",
       "    <tr>\n",
       "      <th>2</th>\n",
       "      <td>k403</td>\n",
       "      <td>Ramicane</td>\n",
       "      <td>Male</td>\n",
       "      <td>21</td>\n",
       "      <td>16</td>\n",
       "      <td>10</td>\n",
       "      <td>35.01</td>\n",
       "      <td>1</td>\n",
       "    </tr>\n",
       "    <tr>\n",
       "      <th>3</th>\n",
       "      <td>k403</td>\n",
       "      <td>Ramicane</td>\n",
       "      <td>Male</td>\n",
       "      <td>21</td>\n",
       "      <td>16</td>\n",
       "      <td>15</td>\n",
       "      <td>34.22</td>\n",
       "      <td>1</td>\n",
       "    </tr>\n",
       "    <tr>\n",
       "      <th>4</th>\n",
       "      <td>k403</td>\n",
       "      <td>Ramicane</td>\n",
       "      <td>Male</td>\n",
       "      <td>21</td>\n",
       "      <td>16</td>\n",
       "      <td>20</td>\n",
       "      <td>33.00</td>\n",
       "      <td>1</td>\n",
       "    </tr>\n",
       "  </tbody>\n",
       "</table>\n",
       "</div>"
      ],
      "text/plain": [
       "  Mouse ID Drug Regimen   Sex  Age_months  Weight (g)  Timepoint  \\\n",
       "0     k403     Ramicane  Male          21          16          0   \n",
       "1     k403     Ramicane  Male          21          16          5   \n",
       "2     k403     Ramicane  Male          21          16         10   \n",
       "3     k403     Ramicane  Male          21          16         15   \n",
       "4     k403     Ramicane  Male          21          16         20   \n",
       "\n",
       "   Tumor Volume (mm3)  Metastatic Sites  \n",
       "0               45.00                 0  \n",
       "1               38.83                 0  \n",
       "2               35.01                 1  \n",
       "3               34.22                 1  \n",
       "4               33.00                 1  "
      ]
     },
     "execution_count": 81,
     "metadata": {},
     "output_type": "execute_result"
    }
   ],
   "source": [
    "# Dependencies and Setup\n",
    "import matplotlib.pyplot as plt\n",
    "import pandas as pd\n",
    "import scipy.stats as st\n",
    "from scipy.stats import linregress\n",
    "import numpy \n",
    "%matplotlib inline\n",
    "\n",
    "# Study data files\n",
    "mouse_metadata_path = \"data/Mouse_metadata.csv\"\n",
    "study_results_path = \"data/Study_results.csv\"\n",
    "\n",
    "# Read the mouse data and the study results\n",
    "mouse_metadata = pd.read_csv(mouse_metadata_path)\n",
    "study_results = pd.read_csv(study_results_path)\n",
    "\n",
    "# Combine the data into a single dataset\n",
    "tumor_df = mouse_metadata.merge (study_results, on = 'Mouse ID')\n",
    "# Display the data table for preview\n",
    "tumor_df.head()"
   ]
  },
  {
   "cell_type": "code",
   "execution_count": 82,
   "id": "a33489c2",
   "metadata": {},
   "outputs": [
    {
     "name": "stdout",
     "output_type": "stream",
     "text": [
      "249\n"
     ]
    }
   ],
   "source": [
    "\n",
    "# Checking the number of mice.\n",
    "mice_num1 = tumor_df['Mouse ID'].nunique()\n",
    "print(mice_num1)"
   ]
  },
  {
   "cell_type": "code",
   "execution_count": 83,
   "id": "43955ce8",
   "metadata": {},
   "outputs": [
    {
     "name": "stdout",
     "output_type": "stream",
     "text": [
      "['g989']\n"
     ]
    }
   ],
   "source": [
    "\n",
    "# Getting the duplicate mice by ID number that shows up for Mouse ID and Timepoint. \n",
    "duplicates = tumor_df.loc[tumor_df.duplicated(subset=['Mouse ID', 'Timepoint',]),'Mouse ID'].unique()\n",
    "print(duplicates)"
   ]
  },
  {
   "cell_type": "code",
   "execution_count": 84,
   "id": "8bc43ce8",
   "metadata": {},
   "outputs": [],
   "source": [
    "\n",
    "# Create a clean DataFrame by dropping the duplicate mouse by its ID.\n",
    "c_tumor = tumor_df.loc[tumor_df['Mouse ID'] != \"g989\"]\n"
   ]
  },
  {
   "cell_type": "code",
   "execution_count": 85,
   "id": "cadc6907",
   "metadata": {},
   "outputs": [
    {
     "name": "stdout",
     "output_type": "stream",
     "text": [
      "248\n"
     ]
    }
   ],
   "source": [
    "# Checking the number of mice in the clean DataFrame.\n",
    "mice_num2 = c_tumor['Mouse ID'].nunique()\n",
    "print(mice_num2)"
   ]
  },
  {
   "cell_type": "code",
   "execution_count": 86,
   "id": "06986b55",
   "metadata": {},
   "outputs": [
    {
     "data": {
      "text/html": [
       "<div>\n",
       "<style scoped>\n",
       "    .dataframe tbody tr th:only-of-type {\n",
       "        vertical-align: middle;\n",
       "    }\n",
       "\n",
       "    .dataframe tbody tr th {\n",
       "        vertical-align: top;\n",
       "    }\n",
       "\n",
       "    .dataframe thead th {\n",
       "        text-align: right;\n",
       "    }\n",
       "</style>\n",
       "<table border=\"1\" class=\"dataframe\">\n",
       "  <thead>\n",
       "    <tr style=\"text-align: right;\">\n",
       "      <th></th>\n",
       "      <th>Tumor Vol Mean</th>\n",
       "      <th>Tumor Vol Median</th>\n",
       "      <th>Tumor Vol Variance</th>\n",
       "      <th>Tumor Vol STD</th>\n",
       "      <th>Tumor Vol SEM</th>\n",
       "    </tr>\n",
       "    <tr>\n",
       "      <th>Drug Regimen</th>\n",
       "      <th></th>\n",
       "      <th></th>\n",
       "      <th></th>\n",
       "      <th></th>\n",
       "      <th></th>\n",
       "    </tr>\n",
       "  </thead>\n",
       "  <tbody>\n",
       "    <tr>\n",
       "      <th>Capomulin</th>\n",
       "      <td>40.68</td>\n",
       "      <td>41.56</td>\n",
       "      <td>24.95</td>\n",
       "      <td>4.99</td>\n",
       "      <td>0.33</td>\n",
       "    </tr>\n",
       "    <tr>\n",
       "      <th>Ceftamin</th>\n",
       "      <td>52.59</td>\n",
       "      <td>51.78</td>\n",
       "      <td>39.29</td>\n",
       "      <td>6.27</td>\n",
       "      <td>0.47</td>\n",
       "    </tr>\n",
       "    <tr>\n",
       "      <th>Infubinol</th>\n",
       "      <td>52.88</td>\n",
       "      <td>51.82</td>\n",
       "      <td>43.13</td>\n",
       "      <td>6.57</td>\n",
       "      <td>0.49</td>\n",
       "    </tr>\n",
       "    <tr>\n",
       "      <th>Ketapril</th>\n",
       "      <td>55.24</td>\n",
       "      <td>53.70</td>\n",
       "      <td>68.55</td>\n",
       "      <td>8.28</td>\n",
       "      <td>0.60</td>\n",
       "    </tr>\n",
       "    <tr>\n",
       "      <th>Naftisol</th>\n",
       "      <td>54.33</td>\n",
       "      <td>52.51</td>\n",
       "      <td>66.17</td>\n",
       "      <td>8.13</td>\n",
       "      <td>0.60</td>\n",
       "    </tr>\n",
       "    <tr>\n",
       "      <th>Placebo</th>\n",
       "      <td>54.03</td>\n",
       "      <td>52.29</td>\n",
       "      <td>61.17</td>\n",
       "      <td>7.82</td>\n",
       "      <td>0.58</td>\n",
       "    </tr>\n",
       "    <tr>\n",
       "      <th>Propriva</th>\n",
       "      <td>52.32</td>\n",
       "      <td>50.45</td>\n",
       "      <td>43.85</td>\n",
       "      <td>6.62</td>\n",
       "      <td>0.54</td>\n",
       "    </tr>\n",
       "    <tr>\n",
       "      <th>Ramicane</th>\n",
       "      <td>40.22</td>\n",
       "      <td>40.67</td>\n",
       "      <td>23.49</td>\n",
       "      <td>4.85</td>\n",
       "      <td>0.32</td>\n",
       "    </tr>\n",
       "    <tr>\n",
       "      <th>Stelasyn</th>\n",
       "      <td>54.23</td>\n",
       "      <td>52.43</td>\n",
       "      <td>59.45</td>\n",
       "      <td>7.71</td>\n",
       "      <td>0.57</td>\n",
       "    </tr>\n",
       "    <tr>\n",
       "      <th>Zoniferol</th>\n",
       "      <td>53.24</td>\n",
       "      <td>51.82</td>\n",
       "      <td>48.53</td>\n",
       "      <td>6.97</td>\n",
       "      <td>0.52</td>\n",
       "    </tr>\n",
       "  </tbody>\n",
       "</table>\n",
       "</div>"
      ],
      "text/plain": [
       "              Tumor Vol Mean  Tumor Vol Median  Tumor Vol Variance  \\\n",
       "Drug Regimen                                                         \n",
       "Capomulin              40.68             41.56               24.95   \n",
       "Ceftamin               52.59             51.78               39.29   \n",
       "Infubinol              52.88             51.82               43.13   \n",
       "Ketapril               55.24             53.70               68.55   \n",
       "Naftisol               54.33             52.51               66.17   \n",
       "Placebo                54.03             52.29               61.17   \n",
       "Propriva               52.32             50.45               43.85   \n",
       "Ramicane               40.22             40.67               23.49   \n",
       "Stelasyn               54.23             52.43               59.45   \n",
       "Zoniferol              53.24             51.82               48.53   \n",
       "\n",
       "              Tumor Vol STD  Tumor Vol SEM  \n",
       "Drug Regimen                                \n",
       "Capomulin              4.99           0.33  \n",
       "Ceftamin               6.27           0.47  \n",
       "Infubinol              6.57           0.49  \n",
       "Ketapril               8.28           0.60  \n",
       "Naftisol               8.13           0.60  \n",
       "Placebo                7.82           0.58  \n",
       "Propriva               6.62           0.54  \n",
       "Ramicane               4.85           0.32  \n",
       "Stelasyn               7.71           0.57  \n",
       "Zoniferol              6.97           0.52  "
      ]
     },
     "execution_count": 86,
     "metadata": {},
     "output_type": "execute_result"
    }
   ],
   "source": [
    "# Use groupby and summary statistical methods to calculate the following properties of each drug regimen: \n",
    "reg_groups = c_tumor.groupby('Drug Regimen')\n",
    "\n",
    "# mean, median, variance, standard deviation, and SEM of the tumor volume. \n",
    "t_mean = reg_groups[('Tumor Volume (mm3)')].mean()\n",
    "t_median = reg_groups[('Tumor Volume (mm3)')].median()\n",
    "t_variance = reg_groups[('Tumor Volume (mm3)')].var()\n",
    "t_std = reg_groups[('Tumor Volume (mm3)')].std()\n",
    "t_sem = reg_groups[('Tumor Volume (mm3)')].sem()\n",
    "\n",
    "# Summary Data Frame\n",
    "t_stats = pd.DataFrame({\"Tumor Vol Mean\" : t_mean, \"Tumor Vol Median\" : t_median, \"Tumor Vol Variance\" : t_variance, \"Tumor Vol STD\" : t_std, \"Tumor Vol SEM\" : t_sem})\n",
    "pd.set_option(\"display.precision\", 2)\n",
    "t_stats"
   ]
  },
  {
   "cell_type": "code",
   "execution_count": 87,
   "id": "49f02183",
   "metadata": {},
   "outputs": [
    {
     "data": {
      "image/png": "[encoded data removed]",
      "text/plain": [
       "<Figure size 432x288 with 1 Axes>"
      ]
     },
     "metadata": {
      "needs_background": "light"
     },
     "output_type": "display_data"
    }
   ],
   "source": [
    "# Using the aggregation method, produce the same summary statistics in a single line\n",
    "reg_groups['Tumor Volume (mm3)'].agg(['mean', 'median', 'var', 'std', 'sem'])\n",
    "# Generate a bar plot showing the total number of timepoints for all mice tested for each drug regimen using Pandas.\n",
    "\n",
    "#Count the timepoints by group\n",
    "regimen_timepoints = reg_groups.agg({\"Timepoint\":\"count\"})\n",
    "\n",
    "#Generate Bar Graph\n",
    "regimen_timepoints.plot(kind=\"bar\")\n",
    "plt.title(\"Total Timepoints By Regimen\")\n",
    "plt.ylabel(\"Timepoints\")\n",
    "plt.show()"
   ]
  },
  {
   "cell_type": "code",
   "execution_count": 88,
   "id": "6230bb3b",
   "metadata": {},
   "outputs": [
    {
     "data": {
      "image/png": "[encoded data removed]",
      "text/plain": [
       "<Figure size 432x288 with 1 Axes>"
      ]
     },
     "metadata": {
      "needs_background": "light"
     },
     "output_type": "display_data"
    }
   ],
   "source": [
    "# Generate a bar plot showing the total number of timepoints for all mice tested for each drug regimen using pyplot.\n",
    "\n",
    "#Set x and y data values\n",
    "c_tumor1= c_tumor.sort_values(by=['Drug Regimen'])\n",
    "\n",
    "set_x = c_tumor1[\"Drug Regimen\"].unique()\n",
    "set_y = regimen_timepoints[\"Timepoint\"]\n",
    "\n",
    "#Establish dataframe with the values\n",
    "plt.bar(set_x, set_y, width = .54)\n",
    "\n",
    "#Chart editing\n",
    "plt.title(\"Total Timepoints By Regimen\")\n",
    "plt.xticks(rotation=90)\n",
    "plt.xlabel(\"Drug Regimen\")\n",
    "plt.ylabel(\"Timepoints\")\n",
    "plt.show()"
   ]
  },
  {
   "cell_type": "code",
   "execution_count": 89,
   "id": "dac9b4be",
   "metadata": {},
   "outputs": [
    {
     "data": {
      "image/png": "[encoded data removed]",
      "text/plain": [
       "<Figure size 432x288 with 1 Axes>"
      ]
     },
     "metadata": {},
     "output_type": "display_data"
    }
   ],
   "source": [
    "\n",
    "# Generate a pie plot showing the distribution of female versus male mice using Pandas\n",
    "# Group Unique mice by sex\n",
    "male_female = c_tumor.groupby(\"Sex\").nunique()[\"Mouse ID\"]\n",
    "\n",
    "#Establish Pie Chart \n",
    "male_female.plot(kind=\"pie\", autopct='%1.1f%%', startangle=65)\n",
    "plt.title(\"Male/Female Distribution\")\n",
    "plt.show()"
   ]
  },
  {
   "cell_type": "code",
   "execution_count": 90,
   "id": "05e694ab",
   "metadata": {},
   "outputs": [
    {
     "data": {
      "image/png": "[encoded data removed]",
      "text/plain": [
       "<Figure size 432x288 with 1 Axes>"
      ]
     },
     "metadata": {},
     "output_type": "display_data"
    }
   ],
   "source": [
    "\n",
    "# Generate a pie plot showing the distribution of female versus male mice using pyplot\n",
    "labels = [\"Female\", \"Male\"]\n",
    "pie, pie1 = plt.subplots()\n",
    "pie1.pie(male_female, labels=labels, autopct='%1.1f%%', startangle=65)\n",
    "pie1.axis('equal')\n",
    "plt.title(\"Male/Female Distribution\")\n",
    "plt.show()"
   ]
  },
  {
   "cell_type": "code",
   "execution_count": 91,
   "id": "0881eb2b",
   "metadata": {},
   "outputs": [],
   "source": [
    "\n",
    "# Capomulin,Ramicane, Infubinol, and Ceftamin\n",
    "unique_mouse = c_tumor.groupby('Mouse ID')\n",
    "\n",
    "# Start by getting the last (greatest) timepoint for each mouse\n",
    "last_time = unique_mouse[\"Timepoint\"].max()\n",
    "\n",
    "# Merge this group df with the original dataframe to get the tumor volume at the last timepoint\n",
    "merged = pd.merge(c_tumor, last_time, on = \"Mouse ID\")\n",
    "cleaned = merged.drop_duplicates(subset = ['Mouse ID', 'Timepoint_y'], keep = 'last').reset_index(drop = True)\n",
    "\n",
    "#Rename Columns in merged dataset\n",
    "cleaned.rename(columns={\"Timepoint_y\": \"Last Time\"}, inplace = True)\n",
    "cleaned.rename(columns={\"Tumor Volume (mm3)\": \"Final Tumor Vol (mm3)\"}, inplace = True)\n",
    "\n",
    "#Establish Location for each of the four drug regimens\n",
    "Capomulin = cleaned.loc[cleaned[\"Drug Regimen\"] == \"Capomulin\"]\n",
    "Ramicane = cleaned.loc[cleaned[\"Drug Regimen\"] == \"Ramicane\"]\n",
    "Infubinol = cleaned.loc[cleaned[\"Drug Regimen\"] == \"Infubinol\"]\n",
    "Ceftamin = cleaned.loc[cleaned[\"Drug Regimen\"] == \"Ceftamin\"]"
   ]
  },
  {
   "cell_type": "code",
   "execution_count": 92,
   "id": "edec8305",
   "metadata": {},
   "outputs": [
    {
     "name": "stdout",
     "output_type": "stream",
     "text": [
      "Infubinol is potential outlier: 74    36.32\n",
      "Name: Final Tumor Vol (mm3), dtype: float64.\n",
      "[1      23.34\n",
      "2      28.48\n",
      "3      28.43\n",
      "6      30.49\n",
      "10     31.02\n",
      "12     31.90\n",
      "13     32.38\n",
      "14     33.33\n",
      "16     34.46\n",
      "20     37.31\n",
      "22     36.04\n",
      "24     37.07\n",
      "28     38.85\n",
      "30     38.94\n",
      "31     38.98\n",
      "32     38.75\n",
      "34     38.13\n",
      "35     39.95\n",
      "36     40.66\n",
      "37     40.16\n",
      "38     40.73\n",
      "39     41.48\n",
      "40     41.58\n",
      "45     47.69\n",
      "180    46.54\n",
      "Name: Final Tumor Vol (mm3), dtype: float64, 0     22.05\n",
      "4     29.13\n",
      "5     30.28\n",
      "7     30.56\n",
      "8     30.64\n",
      "9     31.56\n",
      "11    31.10\n",
      "15    33.40\n",
      "17    32.98\n",
      "18    33.56\n",
      "19    36.13\n",
      "21    38.81\n",
      "23    37.23\n",
      "25    36.37\n",
      "26    36.56\n",
      "27    37.31\n",
      "29    38.34\n",
      "33    38.41\n",
      "41    40.66\n",
      "42    40.67\n",
      "43    45.22\n",
      "44    43.05\n",
      "46    43.42\n",
      "47    43.17\n",
      "48    44.18\n",
      "Name: Final Tumor Vol (mm3), dtype: float64, 49     67.97\n",
      "50     65.53\n",
      "57     57.03\n",
      "58     66.08\n",
      "70     72.23\n",
      "74     36.32\n",
      "82     60.97\n",
      "90     62.44\n",
      "95     60.92\n",
      "111    67.29\n",
      "123    66.20\n",
      "127    62.12\n",
      "145    47.01\n",
      "149    60.17\n",
      "161    55.63\n",
      "162    45.70\n",
      "173    54.66\n",
      "184    55.65\n",
      "205    46.25\n",
      "208    54.05\n",
      "210    51.54\n",
      "217    50.01\n",
      "222    58.27\n",
      "236    67.69\n",
      "245    62.75\n",
      "Name: Final Tumor Vol (mm3), dtype: float64, 52     63.00\n",
      "65     45.00\n",
      "66     56.06\n",
      "68     55.74\n",
      "97     48.72\n",
      "110    47.78\n",
      "117    61.85\n",
      "121    68.92\n",
      "132    67.75\n",
      "133    57.92\n",
      "134    46.78\n",
      "135    59.85\n",
      "138    64.30\n",
      "154    59.74\n",
      "170    61.43\n",
      "174    64.19\n",
      "194    45.00\n",
      "198    52.93\n",
      "199    45.00\n",
      "215    67.53\n",
      "227    45.00\n",
      "231    64.63\n",
      "234    61.39\n",
      "240    68.59\n",
      "241    64.73\n",
      "Name: Final Tumor Vol (mm3), dtype: float64]\n"
     ]
    }
   ],
   "source": [
    "# Put treatments into a list for for loop \n",
    "\n",
    "treatment = [\"Capomulin\", \"Ramicane\", \"Infubinol\", \"Ceftamin\"]\n",
    "\n",
    "# Create empty list for tumor vol data \n",
    "tumor_vol = []\n",
    "\n",
    "# Calculate the IQR and identify potential outliers. \n",
    "for x in treatment:\n",
    "    final_tumor_vol = cleaned.loc[cleaned[\"Drug Regimen\"]== x][\"Final Tumor Vol (mm3)\"]\n",
    "    tumor_vol.append(final_tumor_vol)\n",
    "    \n",
    "#Locate the rows which contain mice on each drug and get the tumor volumes\n",
    "    quartiles = final_tumor_vol.quantile([.25,.5,.75])\n",
    "    lowerq = (quartiles[0.25])\n",
    "    upperq = (quartiles[0.75])\n",
    "    median = (quartiles[0.5])\n",
    "    iqr = (upperq-lowerq)\n",
    "#Determine outliers using upper and lower bounds\n",
    "    low_b = round(lowerq - (1.5*iqr),2)\n",
    "    up_b = round(upperq + (1.5*iqr),2)\n",
    "    out = final_tumor_vol.loc[(final_tumor_vol > up_b) | (final_tumor_vol < low_b)]\n",
    "\n",
    "#Establish condition to display the outlier   \n",
    "    if out.count() != 0:\n",
    "        print(f\"{x} is potential outlier: {out}.\")\n",
    "print(tumor_vol)"
   ]
  },
  {
   "cell_type": "code",
   "execution_count": 93,
   "id": "7d2329e2",
   "metadata": {},
   "outputs": [
    {
     "data": {
      "image/png": "[encoded data removed]",
      "text/plain": [
       "<Figure size 432x288 with 1 Axes>"
      ]
     },
     "metadata": {
      "needs_background": "light"
     },
     "output_type": "display_data"
    }
   ],
   "source": [
    "# Generate a box plot of the final tumor volume of each mouse across four regimens of interest\n",
    "\n",
    "#Establish Box Plot\n",
    "plt.boxplot(tumor_vol, labels = treatment)\n",
    "\n",
    "#Box Plot Formatting \n",
    "plt.title(\"Final Tumor Size Analysis\")\n",
    "plt.xlabel(\"Drugs Studied\")\n",
    "plt.ylabel(\"Final Tumor Volume (mm3)\")\n",
    "plt.show()"
   ]
  },
  {
   "cell_type": "code",
   "execution_count": 94,
   "id": "f48214a1",
   "metadata": {},
   "outputs": [
    {
     "data": {
      "text/html": [
       "<div>\n",
       "<style scoped>\n",
       "    .dataframe tbody tr th:only-of-type {\n",
       "        vertical-align: middle;\n",
       "    }\n",
       "\n",
       "    .dataframe tbody tr th {\n",
       "        vertical-align: top;\n",
       "    }\n",
       "\n",
       "    .dataframe thead th {\n",
       "        text-align: right;\n",
       "    }\n",
       "</style>\n",
       "<table border=\"1\" class=\"dataframe\">\n",
       "  <thead>\n",
       "    <tr style=\"text-align: right;\">\n",
       "      <th></th>\n",
       "      <th>Mouse ID</th>\n",
       "      <th>Drug Regimen</th>\n",
       "      <th>Sex</th>\n",
       "      <th>Age_months</th>\n",
       "      <th>Weight (g)</th>\n",
       "      <th>Timepoint</th>\n",
       "      <th>Tumor Volume (mm3)</th>\n",
       "      <th>Metastatic Sites</th>\n",
       "    </tr>\n",
       "  </thead>\n",
       "  <tbody>\n",
       "    <tr>\n",
       "      <th>300</th>\n",
       "      <td>b128</td>\n",
       "      <td>Capomulin</td>\n",
       "      <td>Female</td>\n",
       "      <td>9</td>\n",
       "      <td>22</td>\n",
       "      <td>0</td>\n",
       "      <td>45.00</td>\n",
       "      <td>0</td>\n",
       "    </tr>\n",
       "    <tr>\n",
       "      <th>301</th>\n",
       "      <td>b128</td>\n",
       "      <td>Capomulin</td>\n",
       "      <td>Female</td>\n",
       "      <td>9</td>\n",
       "      <td>22</td>\n",
       "      <td>5</td>\n",
       "      <td>45.65</td>\n",
       "      <td>0</td>\n",
       "    </tr>\n",
       "    <tr>\n",
       "      <th>302</th>\n",
       "      <td>b128</td>\n",
       "      <td>Capomulin</td>\n",
       "      <td>Female</td>\n",
       "      <td>9</td>\n",
       "      <td>22</td>\n",
       "      <td>10</td>\n",
       "      <td>43.27</td>\n",
       "      <td>0</td>\n",
       "    </tr>\n",
       "    <tr>\n",
       "      <th>303</th>\n",
       "      <td>b128</td>\n",
       "      <td>Capomulin</td>\n",
       "      <td>Female</td>\n",
       "      <td>9</td>\n",
       "      <td>22</td>\n",
       "      <td>15</td>\n",
       "      <td>43.78</td>\n",
       "      <td>0</td>\n",
       "    </tr>\n",
       "    <tr>\n",
       "      <th>304</th>\n",
       "      <td>b128</td>\n",
       "      <td>Capomulin</td>\n",
       "      <td>Female</td>\n",
       "      <td>9</td>\n",
       "      <td>22</td>\n",
       "      <td>20</td>\n",
       "      <td>42.73</td>\n",
       "      <td>0</td>\n",
       "    </tr>\n",
       "    <tr>\n",
       "      <th>305</th>\n",
       "      <td>b128</td>\n",
       "      <td>Capomulin</td>\n",
       "      <td>Female</td>\n",
       "      <td>9</td>\n",
       "      <td>22</td>\n",
       "      <td>25</td>\n",
       "      <td>43.26</td>\n",
       "      <td>1</td>\n",
       "    </tr>\n",
       "    <tr>\n",
       "      <th>306</th>\n",
       "      <td>b128</td>\n",
       "      <td>Capomulin</td>\n",
       "      <td>Female</td>\n",
       "      <td>9</td>\n",
       "      <td>22</td>\n",
       "      <td>30</td>\n",
       "      <td>40.61</td>\n",
       "      <td>1</td>\n",
       "    </tr>\n",
       "    <tr>\n",
       "      <th>307</th>\n",
       "      <td>b128</td>\n",
       "      <td>Capomulin</td>\n",
       "      <td>Female</td>\n",
       "      <td>9</td>\n",
       "      <td>22</td>\n",
       "      <td>35</td>\n",
       "      <td>37.97</td>\n",
       "      <td>1</td>\n",
       "    </tr>\n",
       "    <tr>\n",
       "      <th>308</th>\n",
       "      <td>b128</td>\n",
       "      <td>Capomulin</td>\n",
       "      <td>Female</td>\n",
       "      <td>9</td>\n",
       "      <td>22</td>\n",
       "      <td>40</td>\n",
       "      <td>38.38</td>\n",
       "      <td>2</td>\n",
       "    </tr>\n",
       "    <tr>\n",
       "      <th>309</th>\n",
       "      <td>b128</td>\n",
       "      <td>Capomulin</td>\n",
       "      <td>Female</td>\n",
       "      <td>9</td>\n",
       "      <td>22</td>\n",
       "      <td>45</td>\n",
       "      <td>38.98</td>\n",
       "      <td>2</td>\n",
       "    </tr>\n",
       "  </tbody>\n",
       "</table>\n",
       "</div>"
      ],
      "text/plain": [
       "    Mouse ID Drug Regimen     Sex  Age_months  Weight (g)  Timepoint  \\\n",
       "300     b128    Capomulin  Female           9          22          0   \n",
       "301     b128    Capomulin  Female           9          22          5   \n",
       "302     b128    Capomulin  Female           9          22         10   \n",
       "303     b128    Capomulin  Female           9          22         15   \n",
       "304     b128    Capomulin  Female           9          22         20   \n",
       "305     b128    Capomulin  Female           9          22         25   \n",
       "306     b128    Capomulin  Female           9          22         30   \n",
       "307     b128    Capomulin  Female           9          22         35   \n",
       "308     b128    Capomulin  Female           9          22         40   \n",
       "309     b128    Capomulin  Female           9          22         45   \n",
       "\n",
       "     Tumor Volume (mm3)  Metastatic Sites  \n",
       "300               45.00                 0  \n",
       "301               45.65                 0  \n",
       "302               43.27                 0  \n",
       "303               43.78                 0  \n",
       "304               42.73                 0  \n",
       "305               43.26                 1  \n",
       "306               40.61                 1  \n",
       "307               37.97                 1  \n",
       "308               38.38                 2  \n",
       "309               38.98                 2  "
      ]
     },
     "execution_count": 94,
     "metadata": {},
     "output_type": "execute_result"
    },
    {
     "data": {
      "image/png": "[encoded data removed]",
      "text/plain": [
       "<Figure size 432x288 with 1 Axes>"
      ]
     },
     "metadata": {
      "needs_background": "light"
     },
     "output_type": "display_data"
    }
   ],
   "source": [
    "# Generate a line plot of tumor volume vs. time point for a mouse treated with Capomulin\n",
    "\n",
    "#Find and Select the mouse location by mouse ID\n",
    "mouse_b128 = c_tumor.loc[c_tumor[\"Mouse ID\"]==\"b128\"]\n",
    "\n",
    "#Use mouse location to establish line chart for mouse S185 for time and tumor volume\n",
    "plt.plot(mouse_b128['Timepoint'], mouse_b128['Tumor Volume (mm3)'])\n",
    "\n",
    "#Chart formating \n",
    "plt.title(\"Mouse s185 Tumor Volume Over Timepoints\")\n",
    "plt.xlabel(\"Timepoint (days)\")\n",
    "plt.ylabel(\"Tumor Volume (mm3)\")\n",
    "mouse_b128"
   ]
  },
  {
   "cell_type": "code",
   "execution_count": 95,
   "id": "a2550772",
   "metadata": {},
   "outputs": [
    {
     "data": {
      "text/plain": [
       "Text(0.5, 0, 'Mouse Tumor Vol (mm3)')"
      ]
     },
     "execution_count": 95,
     "metadata": {},
     "output_type": "execute_result"
    },
    {
     "data": {
      "image/png": "[encoded data removed]",
      "text/plain": [
       "<Figure size 432x288 with 1 Axes>"
      ]
     },
     "metadata": {
      "needs_background": "light"
     },
     "output_type": "display_data"
    }
   ],
   "source": [
    "# Generate a scatter plot of average tumor volume vs. mouse weight for the Capomulin regimen\n",
    "#Find location of Capomulin \n",
    "cap = c_tumor.loc[c_tumor[\"Drug Regimen\"] == \"Capomulin\"].groupby(\"Mouse ID\")\n",
    "\n",
    "#x values\n",
    "tumorvol_avg = cap['Tumor Volume (mm3)'].mean()\n",
    "\n",
    "#y values\n",
    "cap_w = c_tumor.loc[c_tumor[\"Drug Regimen\"] == \"Capomulin\"].groupby(\"Mouse ID\")\n",
    "cap_weight = cap_w[\"Weight (g)\"].mean()\n",
    "\n",
    "#Establish Scatter Plot\n",
    "plt.scatter(tumorvol_avg, cap_weight)\n",
    "\n",
    "#Chart Formating \n",
    "plt.title(\"Capomulin Regimen Tumor Vol Vs. Mouse Weight\")\n",
    "plt.ylabel(\"Mouse Weight\")\n",
    "plt.xlabel(\"Mouse Tumor Vol (mm3)\")"
   ]
  },
  {
   "cell_type": "code",
   "execution_count": 96,
   "id": "192aa778",
   "metadata": {},
   "outputs": [
    {
     "name": "stdout",
     "output_type": "stream",
     "text": [
      "The correlation coefficient between Mouse Tumor Vol (mm3) and Mouse Weight is 0.84\n"
     ]
    },
    {
     "data": {
      "image/png": "[encoded data removed]",
      "text/plain": [
       "<Figure size 432x288 with 1 Axes>"
      ]
     },
     "metadata": {
      "needs_background": "light"
     },
     "output_type": "display_data"
    }
   ],
   "source": [
    "\n",
    "#Calculate and pring correlation coefficient\n",
    "print(f\"The correlation coefficient between Mouse Tumor Vol (mm3) and Mouse Weight is {round(st.pearsonr(tumorvol_avg,cap_weight)[0],2)}\")\n",
    "\n",
    "#Duplicate chart above\n",
    "plt.scatter(tumorvol_avg, cap_weight)\n",
    "\n",
    "#Linear regression equation\n",
    "(slope, intercept, rvalue, pvalue, std_err) = linregress(tumorvol_avg, cap_weight)\n",
    "regress_values = tumorvol_avg * slope + intercept\n",
    "line_eq = \"y = \" + str(round(slope,2)) + \"x + \" + str(round(intercept,2))\n",
    "\n",
    "#Place Regression line on plot\n",
    "plt.plot(tumorvol_avg,regress_values,\"r-\")\n",
    "plt.title(\"Capomulin Regimen Tumor Vol Vs. Mouse Weight\")\n",
    "plt.xlabel('Mouse Tumor Vol (mm3)')\n",
    "plt.ylabel('Mouse Weight')\n",
    "plt.annotate(line_eq,(35,24),fontsize=15,color=\"red\")\n",
    "plt.show()"
   ]
  },
  {
   "cell_type": "code",
   "execution_count": null,
   "id": "1d0f92d7",
   "metadata": {},
   "outputs": [],
   "source": []
  },
  {
   "cell_type": "code",
   "execution_count": null,
   "id": "da05291e",
   "metadata": {},
   "outputs": [],
   "source": []
  },
  {
   "cell_type": "code",
   "execution_count": null,
   "id": "d35c27f2",
   "metadata": {},
   "outputs": [],
   "source": []
  },
  {
   "cell_type": "code",
   "execution_count": null,
   "id": "6fdd14a5",
   "metadata": {},
   "outputs": [],
   "source": []
  },
  {
   "cell_type": "code",
   "execution_count": null,
   "id": "bf253d01",
   "metadata": {},
   "outputs": [],
   "source": []
  },
  {
   "cell_type": "code",
   "execution_count": null,
   "id": "8684c9b1",
   "metadata": {},
   "outputs": [],
   "source": []
  },
  {
   "cell_type": "code",
   "execution_count": null,
   "id": "14b41b37",
   "metadata": {},
   "outputs": [],
   "source": []
  },
  {
   "cell_type": "code",
   "execution_count": null,
   "id": "11facd76",
   "metadata": {},
   "outputs": [],
   "source": []
  },
  {
   "cell_type": "code",
   "execution_count": null,
   "id": "4b0f554b",
   "metadata": {},
   "outputs": [],
   "source": []
  }
 ],
 "metadata": {
  "kernelspec": {
   "display_name": "Python 3 (ipykernel)",
   "language": "python",
   "name": "python3"
  },
  "language_info": {
   "codemirror_mode": {
    "name": "ipython",
    "version": 3
   },
   "file_extension": ".py",
   "mimetype": "text/x-python",
   "name": "python",
   "nbconvert_exporter": "python",
   "pygments_lexer": "ipython3",
   "version": "3.8.8"
  }
 },
 "nbformat": 4,
 "nbformat_minor": 5
}
